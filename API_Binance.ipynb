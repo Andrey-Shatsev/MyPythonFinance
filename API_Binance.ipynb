{
  "nbformat": 4,
  "nbformat_minor": 0,
  "metadata": {
    "colab": {
      "provenance": [],
      "authorship_tag": "ABX9TyPw163FxtNNzLgMijcuGyno",
      "include_colab_link": true
    },
    "kernelspec": {
      "name": "python3",
      "display_name": "Python 3"
    },
    "language_info": {
      "name": "python"
    }
  },
  "cells": [
    {
      "cell_type": "markdown",
      "metadata": {
        "id": "view-in-github",
        "colab_type": "text"
      },
      "source": [
        "<a href=\"https://colab.research.google.com/github/Andrey-Shatsev/MyPythonFinance/blob/main/API_Binance.ipynb\" target=\"_parent\"><img src=\"https://colab.research.google.com/assets/colab-badge.svg\" alt=\"Open In Colab\"/></a>"
      ]
    },
    {
      "cell_type": "code",
      "execution_count": 1,
      "metadata": {
        "colab": {
          "base_uri": "https://localhost:8080/"
        },
        "id": "TX3ur6JARCp2",
        "outputId": "c4049998-a503-4bd6-f30f-ab9b4be4b8c3"
      },
      "outputs": [
        {
          "output_type": "stream",
          "name": "stdout",
          "text": [
            "Collecting requests==2.31.0\n",
            "  Downloading requests-2.31.0-py3-none-any.whl.metadata (4.6 kB)\n",
            "Requirement already satisfied: charset-normalizer<4,>=2 in /usr/local/lib/python3.10/dist-packages (from requests==2.31.0) (3.4.0)\n",
            "Requirement already satisfied: idna<4,>=2.5 in /usr/local/lib/python3.10/dist-packages (from requests==2.31.0) (3.10)\n",
            "Requirement already satisfied: urllib3<3,>=1.21.1 in /usr/local/lib/python3.10/dist-packages (from requests==2.31.0) (2.2.3)\n",
            "Requirement already satisfied: certifi>=2017.4.17 in /usr/local/lib/python3.10/dist-packages (from requests==2.31.0) (2024.8.30)\n",
            "Downloading requests-2.31.0-py3-none-any.whl (62 kB)\n",
            "\u001b[2K   \u001b[90m━━━━━━━━━━━━━━━━━━━━━━━━━━━━━━━━━━━━━━━━\u001b[0m \u001b[32m62.6/62.6 kB\u001b[0m \u001b[31m1.5 MB/s\u001b[0m eta \u001b[36m0:00:00\u001b[0m\n",
            "\u001b[?25hInstalling collected packages: requests\n",
            "  Attempting uninstall: requests\n",
            "    Found existing installation: requests 2.32.3\n",
            "    Uninstalling requests-2.32.3:\n",
            "      Successfully uninstalled requests-2.32.3\n",
            "\u001b[31mERROR: pip's dependency resolver does not currently take into account all the packages that are installed. This behaviour is the source of the following dependency conflicts.\n",
            "google-colab 1.0.0 requires requests==2.32.3, but you have requests 2.31.0 which is incompatible.\u001b[0m\u001b[31m\n",
            "\u001b[0mSuccessfully installed requests-2.31.0\n"
          ]
        }
      ],
      "source": [
        "!pip install requests==2.31.0"
      ]
    },
    {
      "cell_type": "code",
      "source": [
        "!pip install scrapingbee"
      ],
      "metadata": {
        "colab": {
          "base_uri": "https://localhost:8080/"
        },
        "id": "i8GLZR8-b-88",
        "outputId": "2e5ba6d0-0104-49be-b98b-848b95269ef8"
      },
      "execution_count": 8,
      "outputs": [
        {
          "output_type": "stream",
          "name": "stdout",
          "text": [
            "Collecting scrapingbee\n",
            "  Downloading scrapingbee-2.0.1-py3-none-any.whl.metadata (5.8 kB)\n",
            "Requirement already satisfied: requests in /usr/local/lib/python3.10/dist-packages (from scrapingbee) (2.31.0)\n",
            "Requirement already satisfied: charset-normalizer<4,>=2 in /usr/local/lib/python3.10/dist-packages (from requests->scrapingbee) (3.4.0)\n",
            "Requirement already satisfied: idna<4,>=2.5 in /usr/local/lib/python3.10/dist-packages (from requests->scrapingbee) (3.10)\n",
            "Requirement already satisfied: urllib3<3,>=1.21.1 in /usr/local/lib/python3.10/dist-packages (from requests->scrapingbee) (2.2.3)\n",
            "Requirement already satisfied: certifi>=2017.4.17 in /usr/local/lib/python3.10/dist-packages (from requests->scrapingbee) (2024.8.30)\n",
            "Downloading scrapingbee-2.0.1-py3-none-any.whl (5.2 kB)\n",
            "Installing collected packages: scrapingbee\n",
            "Successfully installed scrapingbee-2.0.1\n"
          ]
        }
      ]
    },
    {
      "cell_type": "code",
      "source": [
        "import requests\n",
        "from scrapingbee import ScrapingBeeClient"
      ],
      "metadata": {
        "id": "kyStRc9qRP9t"
      },
      "execution_count": 9,
      "outputs": []
    },
    {
      "cell_type": "code",
      "source": [
        "# получил на сайте https://app.scrapingbee.com/dashboard?account_created=True\n",
        "# api ключ и там дается примерно 200 запросов в сутки.\n",
        "client = ScrapingBeeClient(api_key=\"AALDRA2DI8JXD1SUXEZ399F75TD2BI5QB2RBRV8ZZR1NGVNCW4ESALSOB4X8UGJQXLYXCXMQ3KR5GKPP\")"
      ],
      "metadata": {
        "id": "Nzpo2hBgcD8y"
      },
      "execution_count": 27,
      "outputs": []
    },
    {
      "cell_type": "code",
      "source": [
        "url = \"https://api.binance.com\"  # Replace with your actual API endpoint URL"
      ],
      "metadata": {
        "id": "htcIBOM9RRgE"
      },
      "execution_count": 24,
      "outputs": []
    },
    {
      "cell_type": "code",
      "source": [
        "command = '/api/v3/time'"
      ],
      "metadata": {
        "id": "QNH06mpZRcHT"
      },
      "execution_count": 25,
      "outputs": []
    },
    {
      "cell_type": "code",
      "source": [
        "response = client.get(url+command)"
      ],
      "metadata": {
        "id": "hj6POfxRRTHr"
      },
      "execution_count": 28,
      "outputs": []
    },
    {
      "cell_type": "code",
      "source": [
        "print(url+command)"
      ],
      "metadata": {
        "colab": {
          "base_uri": "https://localhost:8080/"
        },
        "id": "WDlB7SFmSU_K",
        "outputId": "6b109457-5b67-442a-964c-5a384afb96f2"
      },
      "execution_count": 26,
      "outputs": [
        {
          "output_type": "stream",
          "name": "stdout",
          "text": [
            "https://api.binance.com/api/v3/time\n"
          ]
        }
      ]
    },
    {
      "cell_type": "code",
      "source": [
        "if response.status_code == 200:\n",
        "  print(\"Request was successful\")\n",
        "else:\n",
        "  print(f\"Request failed with status code: {response.status_code}\")"
      ],
      "metadata": {
        "colab": {
          "base_uri": "https://localhost:8080/"
        },
        "id": "2fz46bRARbFL",
        "outputId": "e575867c-cf1f-4125-fb43-ceae561ccc3a"
      },
      "execution_count": 29,
      "outputs": [
        {
          "output_type": "stream",
          "name": "stdout",
          "text": [
            "Request was successful\n"
          ]
        }
      ]
    },
    {
      "cell_type": "code",
      "source": [
        "data = response.json()  # If the response is in JSON format\n",
        "# or\n",
        "data = response.text  # If the response is in plain text format\n",
        "\n",
        "# Process the data as needed\n",
        "print(data)"
      ],
      "metadata": {
        "colab": {
          "base_uri": "https://localhost:8080/"
        },
        "id": "mCkh-0ChRrVS",
        "outputId": "124abdfa-2206-4bc9-a0de-e800a8e5c379"
      },
      "execution_count": 30,
      "outputs": [
        {
          "output_type": "stream",
          "name": "stdout",
          "text": [
            "{\"serverTime\":1731919858649}\n"
          ]
        }
      ]
    }
  ]
}